{
 "cells": [
  {
   "cell_type": "markdown",
   "metadata": {},
   "source": [
    "# 04 - Results and Visualization\n",
    "\n",
    "This notebook provides comprehensive visualization and analysis of results from both Genetic Algorithm and MIP approaches."
   ]
  },
  {
   "cell_type": "markdown",
   "metadata": {},
   "source": [
    "## Import Libraries"
   ]
  },
  {
   "cell_type": "code",
   "execution_count": null,
   "metadata": {},
   "outputs": [],
   "source": [
    "import sys\n",
    "sys.path.append('../scripts')\n",
    "\n",
    "import pandas as pd\n",
    "import numpy as np\n",
    "import matplotlib.pyplot as plt\n",
    "import seaborn as sns\n",
    "\n",
    "from data_utils import load_attractions_data\n",
    "from visualization import (\n",
    "    plot_fitness_evolution,\n",
    "    plot_route_on_map,\n",
    "    plot_tour_statistics,\n",
    "    plot_distance_matrix,\n",
    "    compare_algorithms,\n",
    "    create_summary_report\n",
    ")\n",
    "\n",
    "plt.style.use('seaborn-v0_8-darkgrid')\n",
    "%matplotlib inline"
   ]
  },
  {
   "cell_type": "markdown",
   "metadata": {},
   "source": [
    "## Load Data and Results"
   ]
  },
  {
   "cell_type": "code",
   "execution_count": null,
   "metadata": {},
   "outputs": [],
   "source": [
    "# Load attractions data\n",
    "attractions = load_attractions_data('../data/sri_lanka_attractions.csv')\n",
    "distance_matrix = np.load('../data/distance_matrix.npy')\n",
    "\n",
    "print(f\"Loaded {len(attractions)} attractions\")\n",
    "\n",
    "# Load algorithm results\n",
    "try:\n",
    "    ga_results = np.load('../data/ga_results.npy', allow_pickle=True).item()\n",
    "    print(\"GA results loaded successfully\")\n",
    "except:\n",
    "    ga_results = None\n",
    "    print(\"GA results not found\")\n",
    "\n",
    "try:\n",
    "    mip_results = np.load('../data/mip_results.npy', allow_pickle=True).item()\n",
    "    print(\"MIP results loaded successfully\")\n",
    "except:\n",
    "    mip_results = None\n",
    "    print(\"MIP results not found\")"
   ]
  },
  {
   "cell_type": "markdown",
   "metadata": {},
   "source": [
    "## Overview of Tourist Attractions"
   ]
  },
  {
   "cell_type": "code",
   "execution_count": null,
   "metadata": {},
   "outputs": [],
   "source": [
    "# Display attractions table\n",
    "print(\"Sri Lankan Tourist Attractions Dataset\")\n",
    "print(\"=\" * 80)\n",
    "attractions_display = attractions.copy()\n",
    "attractions_display.index = range(1, len(attractions) + 1)\n",
    "attractions_display"
   ]
  },
  {
   "cell_type": "code",
   "execution_count": null,
   "metadata": {},
   "outputs": [],
   "source": [
    "# Summary statistics\n",
    "print(\"\\nDataset Summary Statistics:\")\n",
    "print(\"=\" * 80)\n",
    "print(f\"Total number of attractions: {len(attractions)}\")\n",
    "print(f\"\\nScore Statistics:\")\n",
    "print(f\"  Mean: {attractions['score'].mean():.2f}\")\n",
    "print(f\"  Median: {attractions['score'].median():.2f}\")\n",
    "print(f\"  Min: {attractions['score'].min():.2f}\")\n",
    "print(f\"  Max: {attractions['score'].max():.2f}\")\n",
    "print(f\"\\nVisit Duration Statistics (hours):\")\n",
    "print(f\"  Mean: {attractions['visit_duration'].mean():.2f}\")\n",
    "print(f\"  Median: {attractions['visit_duration'].median():.2f}\")\n",
    "print(f\"  Min: {attractions['visit_duration'].min():.2f}\")\n",
    "print(f\"  Max: {attractions['visit_duration'].max():.2f}\")\n",
    "print(f\"  Total: {attractions['visit_duration'].sum():.2f}\")"
   ]
  },
  {
   "cell_type": "markdown",
   "metadata": {},
   "source": [
    "## Visualize Distance Relationships"
   ]
  },
  {
   "cell_type": "code",
   "execution_count": null,
   "metadata": {},
   "outputs": [],
   "source": [
    "# Plot distance matrix heatmap\n",
    "fig = plot_distance_matrix(distance_matrix, attractions['name'].tolist())\n",
    "plt.show()"
   ]
  },
  {
   "cell_type": "markdown",
   "metadata": {},
   "source": [
    "## Genetic Algorithm Results"
   ]
  },
  {
   "cell_type": "code",
   "execution_count": null,
   "metadata": {},
   "outputs": [],
   "source": [
    "if ga_results:\n",
    "    print(\"Genetic Algorithm Performance\")\n",
    "    print(\"=\" * 80)\n",
    "    print(f\"Best Fitness: {ga_results['best_fitness']:.2f}\")\n",
    "    print(f\"Computation Time: {ga_results['computation_time']:.2f} seconds\")\n",
    "    print(f\"Number of Attractions in Tour: {len(ga_results['valid_tour'])}\")\n",
    "    \n",
    "    print(\"\\nGA Parameters:\")\n",
    "    for param, value in ga_results['parameters'].items():\n",
    "        print(f\"  {param}: {value}\")\n",
    "    \n",
    "    # Plot fitness evolution\n",
    "    print(\"\\nFitness Evolution:\")\n",
    "    fig = plot_fitness_evolution(ga_results['fitness_history'])\n",
    "    plt.show()\n",
    "    \n",
    "    # Plot tour statistics\n",
    "    print(\"\\nTour Statistics:\")\n",
    "    fig = plot_tour_statistics(attractions, ga_results['valid_tour'], distance_matrix)\n",
    "    plt.show()\n",
    "    \n",
    "    # Print tour details\n",
    "    print(\"\\nGA Tour Sequence:\")\n",
    "    for i, idx in enumerate(ga_results['valid_tour']):\n",
    "        print(f\"{i+1}. {attractions.iloc[idx]['name']} (Score: {attractions.iloc[idx]['score']}, Duration: {attractions.iloc[idx]['visit_duration']}h)\")\n",
    "else:\n",
    "    print(\"GA results not available. Run notebook 02 to generate results.\")"
   ]
  },
  {
   "cell_type": "markdown",
   "metadata": {},
   "source": [
    "## MIP Model Results"
   ]
  },
  {
   "cell_type": "code",
   "execution_count": null,
   "metadata": {},
   "outputs": [],
   "source": [
    "if mip_results:\n",
    "    print(\"Mixed Integer Programming Performance\")\n",
    "    print(\"=\" * 80)\n",
    "    print(f\"Total Score: {mip_results['total_score']:.2f}\")\n",
    "    print(f\"Computation Time: {mip_results['computation_time']:.2f} seconds\")\n",
    "    print(f\"Solution Status: {mip_results['status']}\")\n",
    "    print(f\"Number of Attractions in Tour: {len(mip_results['tour_sequence'])}\")\n",
    "    \n",
    "    print(\"\\nMIP Parameters:\")\n",
    "    for param, value in mip_results['parameters'].items():\n",
    "        print(f\"  {param}: {value}\")\n",
    "    \n",
    "    # Plot tour statistics\n",
    "    print(\"\\nTour Statistics:\")\n",
    "    fig = plot_tour_statistics(attractions, mip_results['tour_sequence'], distance_matrix)\n",
    "    plt.show()\n",
    "    \n",
    "    # Print tour details\n",
    "    print(\"\\nMIP Tour Sequence:\")\n",
    "    for i, idx in enumerate(mip_results['tour_sequence']):\n",
    "        print(f\"{i+1}. {attractions.iloc[idx]['name']} (Score: {attractions.iloc[idx]['score']}, Duration: {attractions.iloc[idx]['visit_duration']}h)\")\n",
    "else:\n",
    "    print(\"MIP results not available. Run notebook 03 to generate results.\")"
   ]
  },
  {
   "cell_type": "markdown",
   "metadata": {},
   "source": [
    "## Algorithm Comparison"
   ]
  },
  {
   "cell_type": "code",
   "execution_count": null,
   "metadata": {},
   "outputs": [],
   "source": [
    "if ga_results and mip_results:\n",
    "    # Prepare comparison data\n",
    "    comparison_data = {\n",
    "        'Genetic Algorithm': {\n",
    "            'score': ga_results['best_fitness'],\n",
    "            'computation_time': ga_results['computation_time']\n",
    "        },\n",
    "        'MIP (PuLP)': {\n",
    "            'score': mip_results['total_score'],\n",
    "            'computation_time': mip_results['computation_time']\n",
    "        }\n",
    "    }\n",
    "    \n",
    "    # Plot comparison\n",
    "    fig = compare_algorithms(comparison_data)\n",
    "    plt.show()\n",
    "    \n",
    "    # Detailed comparison table\n",
    "    comparison_df = pd.DataFrame({\n",
    "        'Algorithm': ['Genetic Algorithm', 'MIP (PuLP)'],\n",
    "        'Total Score': [ga_results['best_fitness'], mip_results['total_score']],\n",
    "        'Attractions Visited': [len(ga_results['valid_tour']), len(mip_results['tour_sequence'])],\n",
    "        'Computation Time (s)': [ga_results['computation_time'], mip_results['computation_time']]\n",
    "    })\n",
    "    \n",
    "    print(\"\\nDetailed Algorithm Comparison:\")\n",
    "    print(\"=\" * 80)\n",
    "    print(comparison_df.to_string(index=False))\n",
    "    print(\"=\" * 80)\n",
    "    \n",
    "    # Calculate differences\n",
    "    score_diff = abs(ga_results['best_fitness'] - mip_results['total_score'])\n",
    "    score_diff_pct = (score_diff / max(ga_results['best_fitness'], mip_results['total_score'])) * 100\n",
    "    time_ratio = ga_results['computation_time'] / mip_results['computation_time']\n",
    "    \n",
    "    print(f\"\\nKey Insights:\")\n",
    "    print(f\"  Score difference: {score_diff:.2f} ({score_diff_pct:.1f}%)\")\n",
    "    print(f\"  Time ratio (GA/MIP): {time_ratio:.2f}x\")\n",
    "    \n",
    "    if ga_results['best_fitness'] > mip_results['total_score']:\n",
    "        print(f\"  GA found a better solution by {score_diff:.2f} points\")\n",
    "    elif mip_results['total_score'] > ga_results['best_fitness']:\n",
    "        print(f\"  MIP found a better solution by {score_diff:.2f} points\")\n",
    "    else:\n",
    "        print(f\"  Both algorithms found solutions with equal scores\")\n",
    "    \n",
    "elif ga_results:\n",
    "    print(\"Only GA results available. Run notebook 03 to generate MIP results for comparison.\")\n",
    "elif mip_results:\n",
    "    print(\"Only MIP results available. Run notebook 02 to generate GA results for comparison.\")\n",
    "else:\n",
    "    print(\"No results available. Run notebooks 02 and 03 first.\")"
   ]
  },
  {
   "cell_type": "markdown",
   "metadata": {},
   "source": [
    "## Side-by-Side Tour Comparison"
   ]
  },
  {
   "cell_type": "code",
   "execution_count": null,
   "metadata": {},
   "outputs": [],
   "source": [
    "if ga_results and mip_results:\n",
    "    fig, axes = plt.subplots(1, 2, figsize=(16, 6))\n",
    "    \n",
    "    # GA tour\n",
    "    ga_tour = attractions.iloc[ga_results['valid_tour']]\n",
    "    axes[0].barh(range(len(ga_tour)), ga_tour['score'].values, color='steelblue')\n",
    "    axes[0].set_yticks(range(len(ga_tour)))\n",
    "    axes[0].set_yticklabels([f\"{i+1}. {name[:20]}\" for i, name in enumerate(ga_tour['name'])])\n",
    "    axes[0].set_xlabel('Satisfaction Score')\n",
    "    axes[0].set_title(f'Genetic Algorithm Tour\\n(Total Score: {ga_results[\"best_fitness\"]:.2f})')\n",
    "    axes[0].grid(True, alpha=0.3)\n",
    "    \n",
    "    # MIP tour\n",
    "    mip_tour = attractions.iloc[mip_results['tour_sequence']]\n",
    "    axes[1].barh(range(len(mip_tour)), mip_tour['score'].values, color='coral')\n",
    "    axes[1].set_yticks(range(len(mip_tour)))\n",
    "    axes[1].set_yticklabels([f\"{i+1}. {name[:20]}\" for i, name in enumerate(mip_tour['name'])])\n",
    "    axes[1].set_xlabel('Satisfaction Score')\n",
    "    axes[1].set_title(f'MIP Tour\\n(Total Score: {mip_results[\"total_score\"]:.2f})')\n",
    "    axes[1].grid(True, alpha=0.3)\n",
    "    \n",
    "    plt.tight_layout()\n",
    "    plt.show()"
   ]
  },
  {
   "cell_type": "markdown",
   "metadata": {},
   "source": [
    "## Interactive Maps"
   ]
  },
  {
   "cell_type": "code",
   "execution_count": null,
   "metadata": {},
   "outputs": [],
   "source": [
    "print(\"Interactive map files:\")\n",
    "print(\"=\" * 80)\n",
    "\n",
    "if ga_results:\n",
    "    print(\"✓ GA Tour Map: ../data/ga_tour_map.html\")\n",
    "    print(\"  Open in browser to view the Genetic Algorithm tour route\")\n",
    "\n",
    "if mip_results:\n",
    "    print(\"✓ MIP Tour Map: ../data/mip_tour_map.html\")\n",
    "    print(\"  Open in browser to view the MIP tour route\")\n",
    "\n",
    "if not ga_results and not mip_results:\n",
    "    print(\"No maps available. Run notebooks 02 and 03 to generate tour maps.\")"
   ]
  },
  {
   "cell_type": "markdown",
   "metadata": {},
   "source": [
    "## Performance Analysis"
   ]
  },
  {
   "cell_type": "code",
   "execution_count": null,
   "metadata": {},
   "outputs": [],
   "source": [
    "# Analyze solution quality vs computation time trade-off\n",
    "if ga_results and mip_results:\n",
    "    fig, ax = plt.subplots(figsize=(10, 6))\n",
    "    \n",
    "    algorithms = ['GA', 'MIP']\n",
    "    scores = [ga_results['best_fitness'], mip_results['total_score']]\n",
    "    times = [ga_results['computation_time'], mip_results['computation_time']]\n",
    "    colors = ['steelblue', 'coral']\n",
    "    \n",
    "    # Scatter plot\n",
    "    for i, algo in enumerate(algorithms):\n",
    "        ax.scatter(times[i], scores[i], s=300, c=colors[i], alpha=0.6, edgecolors='black', linewidth=2)\n",
    "        ax.annotate(algo, (times[i], scores[i]), \n",
    "                   xytext=(10, 10), textcoords='offset points',\n",
    "                   fontsize=12, fontweight='bold',\n",
    "                   bbox=dict(boxstyle='round,pad=0.5', facecolor=colors[i], alpha=0.3))\n",
    "    \n",
    "    ax.set_xlabel('Computation Time (seconds)', fontsize=12)\n",
    "    ax.set_ylabel('Solution Quality (Total Score)', fontsize=12)\n",
    "    ax.set_title('Solution Quality vs Computation Time', fontsize=14, fontweight='bold')\n",
    "    ax.grid(True, alpha=0.3)\n",
    "    \n",
    "    plt.tight_layout()\n",
    "    plt.show()"
   ]
  },
  {
   "cell_type": "markdown",
   "metadata": {},
   "source": [
    "## Conclusions and Recommendations"
   ]
  },
  {
   "cell_type": "code",
   "execution_count": null,
   "metadata": {},
   "outputs": [],
   "source": [
    "print(\"=\" * 80)\n",
    "print(\"CONCLUSIONS AND RECOMMENDATIONS\")\n",
    "print(\"=\" * 80)\n",
    "\n",
    "if ga_results and mip_results:\n",
    "    print(\"\\n1. Solution Quality:\")\n",
    "    if abs(ga_results['best_fitness'] - mip_results['total_score']) < 0.5:\n",
    "        print(\"   • Both algorithms produced similar quality solutions\")\n",
    "    elif ga_results['best_fitness'] > mip_results['total_score']:\n",
    "        print(\"   • GA produced a higher-scoring solution\")\n",
    "    else:\n",
    "        print(\"   • MIP produced a higher-scoring solution (likely optimal)\")\n",
    "    \n",
    "    print(\"\\n2. Computational Efficiency:\")\n",
    "    if ga_results['computation_time'] < mip_results['computation_time']:\n",
    "        print(\"   • GA was faster to compute\")\n",
    "    else:\n",
    "        print(\"   • MIP was faster to compute\")\n",
    "    \n",
    "    print(\"\\n3. Recommendations:\")\n",
    "    print(\"   • For small-scale problems (<20 attractions): Use MIP for optimal solutions\")\n",
    "    print(\"   • For large-scale problems (>50 attractions): Use GA for good solutions quickly\")\n",
    "    print(\"   • For real-time applications: Use GA for faster response times\")\n",
    "    print(\"   • For critical planning: Use both and compare results\")\n",
    "    \n",
    "    print(\"\\n4. Future Improvements:\")\n",
    "    print(\"   • Implement hybrid approaches (GA + local search)\")\n",
    "    print(\"   • Add multi-day tour planning capabilities\")\n",
    "    print(\"   • Include user preferences and constraints\")\n",
    "    print(\"   • Implement parallel GA for faster computation\")\n",
    "    print(\"   • Add real-time traffic and weather considerations\")\n",
    "\n",
    "print(\"\\n\" + \"=\" * 80)"
   ]
  },
  {
   "cell_type": "markdown",
   "metadata": {},
   "source": [
    "## Export Results Summary"
   ]
  },
  {
   "cell_type": "code",
   "execution_count": null,
   "metadata": {},
   "outputs": [],
   "source": [
    "# Create comprehensive summary\n",
    "summary = \"TOURIST TRIP DESIGN PROBLEM - RESULTS SUMMARY\\n\"\n",
    "summary += \"=\" * 80 + \"\\n\\n\"\n",
    "\n",
    "summary += \"Dataset Information:\\n\"\n",
    "summary += f\"  Total Attractions: {len(attractions)}\\n\"\n",
    "summary += f\"  Average Score: {attractions['score'].mean():.2f}\\n\"\n",
    "summary += f\"  Average Visit Duration: {attractions['visit_duration'].mean():.2f} hours\\n\\n\"\n",
    "\n",
    "if ga_results:\n",
    "    summary += \"Genetic Algorithm Results:\\n\"\n",
    "    summary += f\"  Best Fitness: {ga_results['best_fitness']:.2f}\\n\"\n",
    "    summary += f\"  Attractions Visited: {len(ga_results['valid_tour'])}\\n\"\n",
    "    summary += f\"  Computation Time: {ga_results['computation_time']:.2f} seconds\\n\\n\"\n",
    "\n",
    "if mip_results:\n",
    "    summary += \"MIP Model Results:\\n\"\n",
    "    summary += f\"  Total Score: {mip_results['total_score']:.2f}\\n\"\n",
    "    summary += f\"  Attractions Visited: {len(mip_results['tour_sequence'])}\\n\"\n",
    "    summary += f\"  Computation Time: {mip_results['computation_time']:.2f} seconds\\n\\n\"\n",
    "\n",
    "summary += \"=\" * 80 + \"\\n\"\n",
    "\n",
    "print(summary)\n",
    "\n",
    "# Save to file\n",
    "with open('../data/results_summary.txt', 'w') as f:\n",
    "    f.write(summary)\n",
    "\n",
    "print(\"Summary saved to ../data/results_summary.txt\")"
   ]
  },
  {
   "cell_type": "markdown",
   "metadata": {},
   "source": [
    "## End of Analysis\n",
    "\n",
    "This concludes the comprehensive analysis of the Tourist Trip Design Problem for Sri Lankan attractions using both Genetic Algorithm and Mixed Integer Programming approaches."
   ]
  }
 ],
 "metadata": {
  "kernelnel": {
   "display_name": "Python 3",
   "language": "python",
   "name": "python3"
  },
  "language_info": {
   "codemirror_mode": {
    "name": "ipython",
    "version": 3
   },
   "file_extension": ".py",
   "mimetype": "text/x-python",
   "name": "python",
   "nbconvert_exporter": "python",
   "pygments_lexer": "ipython3",
   "version": "3.8.0"
  }
 },
 "nbformat": 4,
 "nbformat_minor": 4
}
