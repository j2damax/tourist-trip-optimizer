{
 "cells": [
  {
   "cell_type": "markdown",
   "metadata": {},
   "source": [
    "# 01 - Data Exploration and Preparation\n",
    "\n",
    "This notebook explores and prepares the Sri Lankan tourist attraction data for optimization."
   ]
  },
  {
   "cell_type": "markdown",
   "metadata": {},
   "source": [
    "## Import Libraries"
   ]
  },
  {
   "cell_type": "code",
   "execution_count": null,
   "metadata": {},
   "outputs": [],
   "source": [
    "import sys\n",
    "sys.path.append('../scripts')\n",
    "\n",
    "import pandas as pd\n",
    "import numpy as np\n",
    "import matplotlib.pyplot as plt\n",
    "import seaborn as sns\n",
    "from haversine import haversine, Unit\n",
    "\n",
    "from data_utils import (\n",
    "    load_attractions_data,\n",
    "    calculate_distance_matrix,\n",
    "    validate_attraction_data,\n",
    "    prepare_data_for_optimization\n",
    ")\n",
    "\n",
    "plt.style.use('seaborn-v0_8-darkgrid')\n",
    "%matplotlib inline"
   ]
  },
  {
   "cell_type": "markdown",
   "metadata": {},
   "source": [
    "## Create Sample Data\n",
    "\n",
    "Since we don't have actual data yet, let's create sample Sri Lankan tourist attractions data."
   ]
  },
  {
   "cell_type": "code",
   "execution_count": null,
   "metadata": {},
   "outputs": [],
   "source": [
    "# Sample Sri Lankan tourist attractions\n",
    "attractions_data = [\n",
    "    {'name': 'Sigiriya Rock Fortress', 'latitude': 7.9570, 'longitude': 80.7603, 'score': 9.5, 'visit_duration': 3.0},\n",
    "    {'name': 'Temple of the Tooth', 'latitude': 7.2936, 'longitude': 80.6410, 'score': 9.0, 'visit_duration': 2.0},\n",
    "    {'name': 'Galle Fort', 'latitude': 6.0260, 'longitude': 80.2170, 'score': 8.5, 'visit_duration': 2.5},\n",
    "    {'name': 'Yala National Park', 'latitude': 6.3719, 'longitude': 81.5158, 'score': 9.2, 'visit_duration': 4.0},\n",
    "    {'name': 'Dambulla Cave Temple', 'latitude': 7.8567, 'longitude': 80.6489, 'score': 8.8, 'visit_duration': 2.0},\n",
    "    {'name': 'Ella Rock', 'latitude': 6.8667, 'longitude': 81.0467, 'score': 8.3, 'visit_duration': 3.5},\n",
    "    {'name': 'Mirissa Beach', 'latitude': 5.9467, 'longitude': 80.4500, 'score': 8.0, 'visit_duration': 3.0},\n",
    "    {'name': 'Pinnawala Elephant Orphanage', 'latitude': 7.2972, 'longitude': 80.3889, 'score': 7.8, 'visit_duration': 2.5},\n",
    "    {'name': 'Nine Arch Bridge', 'latitude': 6.8800, 'longitude': 81.0586, 'score': 7.5, 'visit_duration': 1.5},\n",
    "    {'name': 'Adam\\'s Peak', 'latitude': 6.8094, 'longitude': 80.4997, 'score': 9.0, 'visit_duration': 5.0}\n",
    "]\n",
    "\n",
    "df = pd.DataFrame(attractions_data)\n",
    "df.to_csv('../data/sri_lanka_attractions.csv', index=False)\n",
    "print(\"Sample data created and saved to ../data/sri_lanka_attractions.csv\")"
   ]
  },
  {
   "cell_type": "markdown",
   "metadata": {},
   "source": [
    "## Load and Explore Data"
   ]
  },
  {
   "cell_type": "code",
   "execution_count": null,
   "metadata": {},
   "outputs": [],
   "source": [
    "# Load the data\n",
    "attractions = load_attractions_data('../data/sri_lanka_attractions.csv')\n",
    "print(f\"Loaded {len(attractions)} attractions\")\n",
    "attractions.head(10)"
   ]
  },
  {
   "cell_type": "code",
   "execution_count": null,
   "metadata": {},
   "outputs": [],
   "source": [
    "# Display basic statistics\n",
    "print(\"\\nData Statistics:\")\n",
    "print(attractions.describe())"
   ]
  },
  {
   "cell_type": "code",
   "execution_count": null,
   "metadata": {},
   "outputs": [],
   "source": [
    "# Validate the data\n",
    "is_valid = validate_attraction_data(attractions)\n",
    "print(f\"\\nData validation: {'Passed' if is_valid else 'Failed'}\")"
   ]
  },
  {
   "cell_type": "markdown",
   "metadata": {},
   "source": [
    "## Visualize Attraction Scores and Visit Durations"
   ]
  },
  {
   "cell_type": "code",
   "execution_count": null,
   "metadata": {},
   "outputs": [],
   "source": [
    "fig, axes = plt.subplots(1, 2, figsize=(15, 5))\n",
    "\n",
    "# Plot scores\n",
    "axes[0].barh(attractions['name'], attractions['score'], color='steelblue')\n",
    "axes[0].set_xlabel('Satisfaction Score')\n",
    "axes[0].set_title('Tourist Satisfaction Scores')\n",
    "axes[0].grid(True, alpha=0.3)\n",
    "\n",
    "# Plot visit durations\n",
    "axes[1].barh(attractions['name'], attractions['visit_duration'], color='coral')\n",
    "axes[1].set_xlabel('Visit Duration (hours)')\n",
    "axes[1].set_title('Required Visit Durations')\n",
    "axes[1].grid(True, alpha=0.3)\n",
    "\n",
    "plt.tight_layout()\n",
    "plt.show()"
   ]
  },
  {
   "cell_type": "markdown",
   "metadata": {},
   "source": [
    "## Calculate Distance Matrix"
   ]
  },
  {
   "cell_type": "code",
   "execution_count": null,
   "metadata": {},
   "outputs": [],
   "source": [
    "# Calculate distances between all attractions\n",
    "distance_matrix = calculate_distance_matrix(attractions)\n",
    "print(f\"Distance matrix shape: {distance_matrix.shape}\")\n",
    "print(f\"\\nSample distances (in km):\")\n",
    "print(distance_matrix[:5, :5])"
   ]
  },
  {
   "cell_type": "code",
   "execution_count": null,
   "metadata": {},
   "outputs": [],
   "source": [
    "# Visualize distance matrix\n",
    "plt.figure(figsize=(10, 8))\n",
    "sns.heatmap(distance_matrix, \n",
    "            xticklabels=attractions['name'], \n",
    "            yticklabels=attractions['name'],\n",
    "            cmap='YlOrRd', \n",
    "            annot=False,\n",
    "            fmt='.1f',\n",
    "            cbar_kws={'label': 'Distance (km)'})\n",
    "plt.title('Distance Matrix Between Attractions')\n",
    "plt.xticks(rotation=45, ha='right')\n",
    "plt.yticks(rotation=0)\n",
    "plt.tight_layout()\n",
    "plt.show()"
   ]
  },
  {
   "cell_type": "markdown",
   "metadata": {},
   "source": [
    "## Visualize Attraction Locations"
   ]
  },
  {
   "cell_type": "code",
   "execution_count": null,
   "metadata": {},
   "outputs": [],
   "source": [
    "# Plot attractions on a scatter plot\n",
    "plt.figure(figsize=(10, 8))\n",
    "scatter = plt.scatter(attractions['longitude'], \n",
    "                     attractions['latitude'],\n",
    "                     c=attractions['score'],\n",
    "                     s=attractions['visit_duration']*100,\n",
    "                     cmap='viridis',\n",
    "                     alpha=0.6,\n",
    "                     edgecolors='black',\n",
    "                     linewidth=1)\n",
    "\n",
    "# Add labels\n",
    "for idx, row in attractions.iterrows():\n",
    "    plt.annotate(row['name'], \n",
    "                (row['longitude'], row['latitude']),\n",
    "                xytext=(5, 5),\n",
    "                textcoords='offset points',\n",
    "                fontsize=8,\n",
    "                bbox=dict(boxstyle='round,pad=0.3', facecolor='yellow', alpha=0.3))\n",
    "\n",
    "plt.colorbar(scatter, label='Satisfaction Score')\n",
    "plt.xlabel('Longitude')\n",
    "plt.ylabel('Latitude')\n",
    "plt.title('Sri Lankan Tourist Attractions\\n(Size = Visit Duration, Color = Score)')\n",
    "plt.grid(True, alpha=0.3)\n",
    "plt.tight_layout()\n",
    "plt.show()"
   ]
  },
  {
   "cell_type": "markdown",
   "metadata": {},
   "source": [
    "## Prepare Data for Optimization"
   ]
  },
  {
   "cell_type": "code",
   "execution_count": null,
   "metadata": {},
   "outputs": [],
   "source": [
    "# Prepare data for optimization algorithms\n",
    "prepared_data = prepare_data_for_optimization(attractions)\n",
    "\n",
    "if prepared_data:\n",
    "    print(\"Data prepared successfully!\")\n",
    "    print(f\"Number of attractions: {prepared_data['n_attractions']}\")\n",
    "    print(f\"Score range: {prepared_data['scores'].min():.2f} - {prepared_data['scores'].max():.2f}\")\n",
    "    print(f\"Duration range: {prepared_data['visit_durations'].min():.2f} - {prepared_data['visit_durations'].max():.2f} hours\")\n",
    "    \n",
    "    # Save prepared data\n",
    "    np.save('../data/distance_matrix.npy', prepared_data['distance_matrix'])\n",
    "    print(\"\\nDistance matrix saved to ../data/distance_matrix.npy\")"
   ]
  },
  {
   "cell_type": "markdown",
   "metadata": {},
   "source": [
    "## Summary Statistics"
   ]
  },
  {
   "cell_type": "code",
   "execution_count": null,
   "metadata": {},
   "outputs": [],
   "source": [
    "print(\"=\" * 60)\n",
    "print(\"DATA EXPLORATION SUMMARY\")\n",
    "print(\"=\" * 60)\n",
    "print(f\"Total Attractions: {len(attractions)}\")\n",
    "print(f\"Average Score: {attractions['score'].mean():.2f}\")\n",
    "print(f\"Average Visit Duration: {attractions['visit_duration'].mean():.2f} hours\")\n",
    "print(f\"Total Visit Time (all attractions): {attractions['visit_duration'].sum():.2f} hours\")\n",
    "print(f\"Average Distance Between Attractions: {distance_matrix[distance_matrix > 0].mean():.2f} km\")\n",
    "print(f\"Max Distance Between Any Two Attractions: {distance_matrix.max():.2f} km\")\n",
    "print(\"=\" * 60)"
   ]
  },
  {
   "cell_type": "markdown",
   "metadata": {},
   "source": [
    "## Next Steps\n",
    "\n",
    "The data is now ready for optimization. In the next notebook, we will implement a Genetic Algorithm to solve the Tourist Trip Design Problem."
   ]
  }
 ],
 "metadata": {
  "kernelspec": {
   "display_name": "Python 3",
   "language": "python",
   "name": "python3"
  },
  "language_info": {
   "codemirror_mode": {
    "name": "ipython",
    "version": 3
   },
   "file_extension": ".py",
   "mimetype": "text/x-python",
   "name": "python",
   "nbconvert_exporter": "python",
   "pygments_lexer": "ipython3",
   "version": "3.8.0"
  }
 },
 "nbformat": 4,
 "nbformat_minor": 4
}
