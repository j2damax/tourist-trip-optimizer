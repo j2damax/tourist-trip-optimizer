{
 "cells": [
  {
   "cell_type": "markdown",
   "metadata": {},
   "source": [
    "# Interactive Learning Tutorial: Optimization Algorithms\n",
    "\n",
    "**Welcome!** This notebook is designed to help you learn optimization algorithms hands-on.\n",
    "\n",
    "**What you'll learn**:\n",
    "- How Genetic Algorithms work (step by step)\n",
    "- How to solve optimization problems with MIP\n",
    "- When to use each approach\n",
    "- How to tune parameters\n",
    "\n",
    "**Prerequisites**: \n",
    "- Basic Python knowledge\n",
    "- Read `LEARNING_GUIDE.md` sections 1-2 (recommended)\n",
    "\n",
    "**Time needed**: 60-90 minutes"
   ]
  },
  {
   "cell_type": "markdown",
   "metadata": {},
   "source": [
    "## Part 1: Setup and Data"
   ]
  },
  {
   "cell_type": "code",
   "execution_count": null,
   "metadata": {},
   "outputs": [],
   "source": [
    "# Import libraries\n",
    "import sys\n",
    "sys.path.append('../scripts')\n",
    "\n",
    "import pandas as pd\n",
    "import numpy as np\n",
    "import matplotlib.pyplot as plt\n",
    "import random\n",
    "\n",
    "from data_utils import calculate_distance_matrix\n",
    "from ga_core import GeneticAlgorithm\n",
    "\n",
    "# Set random seed for reproducibility\n",
    "random.seed(42)\n",
    "np.random.seed(42)\n",
    "\n",
    "print(\"✓ Libraries imported successfully!\")"
   ]
  },
  {
   "cell_type": "markdown",
   "metadata": {},
   "source": [
    "### Create a Simple Dataset\n",
    "\n",
    "We'll start with just 5 attractions so you can understand every step."
   ]
  },
  {
   "cell_type": "code",
   "execution_count": null,
   "metadata": {},
   "outputs": [],
   "source": [
    "# Create sample data\n",
    "attractions = pd.DataFrame({\n",
    "    'name': ['Temple', 'Beach', 'Fort', 'Mountain', 'Museum'],\n",
    "    'latitude': [7.29, 6.03, 6.93, 7.50, 6.50],\n",
    "    'longitude': [80.64, 80.22, 79.85, 80.70, 80.10],\n",
    "    'score': [9.5, 7.0, 8.8, 9.2, 6.5],\n",
    "    'visit_duration': [2.0, 1.5, 2.5, 3.0, 1.0]  # hours\n",
    "})\n",
    "\n",
    "print(\"Our attractions:\")\n",
    "print(attractions)\n",
    "print(f\"\\nTotal attractions: {len(attractions)}\")\n",
    "print(f\"Best score possible: {attractions['score'].sum():.1f}\")\n",
    "print(f\"Total visit time: {attractions['visit_duration'].sum():.1f} hours\")"
   ]
  },
  {
   "cell_type": "code",
   "execution_count": null,
   "metadata": {},
   "outputs": [],
   "source": [
    "# Calculate distances between attractions\n",
    "distance_matrix = calculate_distance_matrix(attractions)\n",
    "\n",
    "print(\"Distance matrix (km):\")\n",
    "print(pd.DataFrame(distance_matrix, \n",
    "                   index=attractions['name'],\n",
    "                   columns=attractions['name']).round(1))"
   ]
  },
  {
   "cell_type": "markdown",
   "metadata": {},
   "source": [
    "## Part 2: Understanding the Problem\n",
    "\n",
    "**Exercise 1**: Calculate fitness manually"
   ]
  },
  {
   "cell_type": "code",
   "execution_count": null,
   "metadata": {},
   "outputs": [],
   "source": [
    "# Let's manually calculate fitness for a simple tour\n",
    "# Tour: Visit attractions in order [0, 2, 3] (Temple → Fort → Mountain)\n",
    "\n",
    "tour = [0, 2, 3]\n",
    "max_time = 12  # hours\n",
    "avg_speed = 50  # km/h\n",
    "\n",
    "print(\"Tour: \", \" → \".join(attractions.iloc[tour]['name']))\n",
    "print(\"\\nStep-by-step calculation:\")\n",
    "print(\"=\" * 60)\n",
    "\n",
    "total_time = 0\n",
    "total_score = 0\n",
    "\n",
    "for i, idx in enumerate(tour):\n",
    "    # Visit time\n",
    "    visit_time = attractions.iloc[idx]['visit_duration']\n",
    "    total_time += visit_time\n",
    "    print(f\"\\nStop {i+1}: {attractions.iloc[idx]['name']}\")\n",
    "    print(f\"  Visit time: {visit_time} hours\")\n",
    "    print(f\"  Score: {attractions.iloc[idx]['score']}\")\n",
    "    \n",
    "    # Travel time to next\n",
    "    if i < len(tour) - 1:\n",
    "        next_idx = tour[i + 1]\n",
    "        distance = distance_matrix[idx, next_idx]\n",
    "        travel_time = distance / avg_speed\n",
    "        total_time += travel_time\n",
    "        print(f\"  Travel to {attractions.iloc[next_idx]['name']}: {distance:.1f} km = {travel_time:.2f} hours\")\n",
    "    \n",
    "    total_score += attractions.iloc[idx]['score']\n",
    "    print(f\"  Cumulative time: {total_time:.2f} hours\")\n",
    "\n",
    "print(\"\\n\" + \"=\" * 60)\n",
    "print(f\"TOTAL SCORE: {total_score}\")\n",
    "print(f\"TOTAL TIME: {total_time:.2f} hours\")\n",
    "print(f\"TIME LIMIT: {max_time} hours\")\n",
    "print(f\"FEASIBLE: {'✓ YES' if total_time <= max_time else '✗ NO'}\")\n",
    "\n",
    "if total_time > max_time:\n",
    "    penalty = (total_time - max_time) * 10\n",
    "    fitness = max(0, total_score - penalty)\n",
    "    print(f\"PENALTY: {penalty:.1f}\")\n",
    "    print(f\"FINAL FITNESS: {fitness:.1f}\")\n",
    "else:\n",
    "    print(f\"FINAL FITNESS: {total_score}\")"
   ]
  },
  {
   "cell_type": "markdown",
   "metadata": {},
   "source": [
    "**❓ Question**: What if we change the order to [3, 2, 0]? Will it be better or worse?"
   ]
  },
  {
   "cell_type": "code",
   "execution_count": null,
   "metadata": {},
   "outputs": [],
   "source": [
    "# Try it yourself!\n",
    "# TODO: Change the tour and re-run the calculation above\n",
    "# tour = [3, 2, 0]  # Mountain → Fort → Temple"
   ]
  },
  {
   "cell_type": "markdown",
   "metadata": {},
   "source": [
    "## Part 3: Genetic Algorithm - Step by Step\n",
    "\n",
    "Now let's see how GA finds good solutions automatically!"
   ]
  },
  {
   "cell_type": "markdown",
   "metadata": {},
   "source": [
    "### Step 1: Create Random Population"
   ]
  },
  {
   "cell_type": "code",
   "execution_count": null,
   "metadata": {},
   "outputs": [],
   "source": [
    "# Initialize GA\n",
    "ga = GeneticAlgorithm(\n",
    "    distance_matrix=distance_matrix,\n",
    "    scores=attractions['score'].values,\n",
    "    visit_durations=attractions['visit_duration'].values,\n",
    "    max_time=12,\n",
    "    population_size=6,  # Small for demonstration\n",
    "    generations=1,  # Just 1 for now\n",
    "    mutation_rate=0.2,\n",
    "    crossover_rate=0.8\n",
    ")\n",
    "\n",
    "# Create initial population\n",
    "population = ga.create_population()\n",
    "\n",
    "print(\"Initial Population (random tours):\")\n",
    "print(\"=\" * 60)\n",
    "for i, individual in enumerate(population):\n",
    "    tour_names = \" → \".join(attractions.iloc[individual]['name'])\n",
    "    fitness = ga.fitness(individual)\n",
    "    print(f\"Individual {i}: {individual}\")\n",
    "    print(f\"  Tour: {tour_names}\")\n",
    "    print(f\"  Fitness: {fitness:.2f}\")\n",
    "    print()"
   ]
  },
  {
   "cell_type": "markdown",
   "metadata": {},
   "source": [
    "**Observation**: Notice how different orderings give different fitness scores!"
   ]
  },
  {
   "cell_type": "markdown",
   "metadata": {},
   "source": [
    "### Step 2: Selection"
   ]
  },
  {
   "cell_type": "code",
   "execution_count": null,
   "metadata": {},
   "outputs": [],
   "source": [
    "# Calculate fitness for all\n",
    "fitnesses = [ga.fitness(ind) for ind in population]\n",
    "\n",
    "print(\"Selection using Tournament Selection:\")\n",
    "print(\"=\" * 60)\n",
    "\n",
    "# Select 2 parents\n",
    "for i in range(2):\n",
    "    parent = ga.selection(population, fitnesses)\n",
    "    parent_idx = next(j for j, ind in enumerate(population) if ind == parent)\n",
    "    print(f\"\\nParent {i+1}: Individual {parent_idx}\")\n",
    "    print(f\"  Tour: {parent}\")\n",
    "    print(f\"  Fitness: {fitnesses[parent_idx]:.2f}\")\n",
    "\n",
    "print(\"\\n💡 Notice: Better individuals have higher chance of being selected!\")"
   ]
  },
  {
   "cell_type": "markdown",
   "metadata": {},
   "source": [
    "### Step 3: Crossover"
   ]
  },
  {
   "cell_type": "code",
   "execution_count": null,
   "metadata": {},
   "outputs": [],
   "source": [
    "# Select two parents\n",
    "parent1 = ga.selection(population, fitnesses)\n",
    "parent2 = ga.selection(population, fitnesses)\n",
    "\n",
    "print(\"Crossover (Order Crossover):\")\n",
    "print(\"=\" * 60)\n",
    "print(f\"Parent 1: {parent1}\")\n",
    "print(f\"Parent 2: {parent2}\")\n",
    "\n",
    "# Perform crossover\n",
    "child = ga.crossover(parent1.copy(), parent2.copy())\n",
    "\n",
    "print(f\"\\nChild:    {child}\")\n",
    "print(f\"\\nChild inherits traits from both parents!\")\n",
    "print(f\"Child fitness: {ga.fitness(child):.2f}\")"
   ]
  },
  {
   "cell_type": "markdown",
   "metadata": {},
   "source": [
    "### Step 4: Mutation"
   ]
  },
  {
   "cell_type": "code",
   "execution_count": null,
   "metadata": {},
   "outputs": [],
   "source": [
    "# Set high mutation rate for demonstration\n",
    "ga.mutation_rate = 1.0  # Always mutate\n",
    "\n",
    "original = child.copy()\n",
    "mutated = ga.mutate(child)\n",
    "\n",
    "print(\"Mutation (Swap):\")\n",
    "print(\"=\" * 60)\n",
    "print(f\"Before: {original}\")\n",
    "print(f\"After:  {mutated}\")\n",
    "\n",
    "# Find what changed\n",
    "changed_positions = [i for i, (a, b) in enumerate(zip(original, mutated)) if a != b]\n",
    "if changed_positions:\n",
    "    print(f\"\\nSwapped positions: {changed_positions}\")\n",
    "    print(f\"Values swapped: {original[changed_positions[0]]} ↔ {original[changed_positions[1]]}\")\n",
    "\n",
    "ga.mutation_rate = 0.2  # Reset"
   ]
  },
  {
   "cell_type": "markdown",
   "metadata": {},
   "source": [
    "## Part 4: Run Complete GA\n",
    "\n",
    "Now let's run the full algorithm!"
   ]
  },
  {
   "cell_type": "code",
   "execution_count": null,
   "metadata": {},
   "outputs": [],
   "source": [
    "# Run GA with more generations\n",
    "ga = GeneticAlgorithm(\n",
    "    distance_matrix=distance_matrix,\n",
    "    scores=attractions['score'].values,\n",
    "    visit_durations=attractions['visit_duration'].values,\n",
    "    max_time=12,\n",
    "    population_size=20,\n",
    "    generations=100,\n",
    "    mutation_rate=0.1,\n",
    "    crossover_rate=0.8\n",
    ")\n",
    "\n",
    "print(\"Running Genetic Algorithm...\")\n",
    "print(\"=\" * 60)\n",
    "\n",
    "best_solution, best_fitness, history = ga.evolve()\n",
    "\n",
    "print(f\"\\n✓ Optimization complete!\")\n",
    "print(f\"\\nBest solution: {best_solution}\")\n",
    "print(f\"Best fitness: {best_fitness:.2f}\")\n",
    "\n",
    "# Get valid tour\n",
    "tour = ga.get_valid_tour(best_solution)\n",
    "tour_names = \" → \".join(attractions.iloc[tour]['name'])\n",
    "print(f\"\\nOptimal tour: {tour_names}\")\n",
    "print(f\"Visits {len(tour)} attractions\")"
   ]
  },
  {
   "cell_type": "markdown",
   "metadata": {},
   "source": [
    "### Visualize Convergence"
   ]
  },
  {
   "cell_type": "code",
   "execution_count": null,
   "metadata": {},
   "outputs": [],
   "source": [
    "# Plot fitness evolution\n",
    "generations = [h['generation'] for h in history]\n",
    "max_fitness = [h['max_fitness'] for h in history]\n",
    "avg_fitness = [h['avg_fitness'] for h in history]\n",
    "\n",
    "plt.figure(figsize=(10, 6))\n",
    "plt.plot(generations, max_fitness, 'b-', label='Best Fitness', linewidth=2)\n",
    "plt.plot(generations, avg_fitness, 'r--', label='Average Fitness', linewidth=2)\n",
    "plt.xlabel('Generation', fontsize=12)\n",
    "plt.ylabel('Fitness', fontsize=12)\n",
    "plt.title('Genetic Algorithm Convergence', fontsize=14)\n",
    "plt.legend(fontsize=10)\n",
    "plt.grid(True, alpha=0.3)\n",
    "plt.tight_layout()\n",
    "plt.show()\n",
    "\n",
    "print(\"\\n📊 Observations:\")\n",
    "print(f\"  - Started with best fitness: {max_fitness[0]:.2f}\")\n",
    "print(f\"  - Ended with best fitness: {max_fitness[-1]:.2f}\")\n",
    "print(f\"  - Improvement: {max_fitness[-1] - max_fitness[0]:.2f} ({(max_fitness[-1]/max_fitness[0]-1)*100:.1f}%)\")"
   ]
  },
  {
   "cell_type": "markdown",
   "metadata": {},
   "source": [
    "## Part 5: Experimentation\n",
    "\n",
    "**Your turn!** Try modifying parameters and see what happens."
   ]
  },
  {
   "cell_type": "markdown",
   "metadata": {},
   "source": [
    "### Experiment 1: Population Size"
   ]
  },
  {
   "cell_type": "code",
   "execution_count": null,
   "metadata": {},
   "outputs": [],
   "source": [
    "# Compare different population sizes\n",
    "pop_sizes = [10, 20, 50, 100]\n",
    "results = []\n",
    "\n",
    "for pop_size in pop_sizes:\n",
    "    ga = GeneticAlgorithm(\n",
    "        distance_matrix=distance_matrix,\n",
    "        scores=attractions['score'].values,\n",
    "        visit_durations=attractions['visit_duration'].values,\n",
    "        max_time=12,\n",
    "        population_size=pop_size,\n",
    "        generations=50,\n",
    "        mutation_rate=0.1,\n",
    "        crossover_rate=0.8\n",
    "    )\n",
    "    \n",
    "    _, fitness, _ = ga.evolve()\n",
    "    results.append(fitness)\n",
    "    print(f\"Population size {pop_size:3d}: Fitness = {fitness:.2f}\")\n",
    "\n",
    "# Plot\n",
    "plt.figure(figsize=(8, 5))\n",
    "plt.bar(range(len(pop_sizes)), results, tick_label=pop_sizes)\n",
    "plt.xlabel('Population Size')\n",
    "plt.ylabel('Best Fitness')\n",
    "plt.title('Effect of Population Size')\n",
    "plt.grid(True, alpha=0.3, axis='y')\n",
    "plt.tight_layout()\n",
    "plt.show()\n",
    "\n",
    "print(f\"\\n💡 Insight: {'Larger' if results[-1] > results[0] else 'Smaller'} populations tend to perform better (usually)\")"
   ]
  },
  {
   "cell_type": "markdown",
   "metadata": {},
   "source": [
    "### Experiment 2: Mutation Rate"
   ]
  },
  {
   "cell_type": "code",
   "execution_count": null,
   "metadata": {},
   "outputs": [],
   "source": [
    "# TODO: Try different mutation rates\n",
    "# mutation_rates = [0.05, 0.1, 0.2, 0.3]\n",
    "# Compare results\n",
    "# What happens with very high mutation? Very low?"
   ]
  },
  {
   "cell_type": "markdown",
   "metadata": {},
   "source": [
    "### Experiment 3: Different Time Limits"
   ]
  },
  {
   "cell_type": "code",
   "execution_count": null,
   "metadata": {},
   "outputs": [],
   "source": [
    "# How does the solution change with different time budgets?\n",
    "time_limits = [6, 9, 12, 15, 18, 24]\n",
    "\n",
    "for max_time in time_limits:\n",
    "    ga = GeneticAlgorithm(\n",
    "        distance_matrix=distance_matrix,\n",
    "        scores=attractions['score'].values,\n",
    "        visit_durations=attractions['visit_duration'].values,\n",
    "        max_time=max_time,\n",
    "        population_size=30,\n",
    "        generations=50\n",
    "    )\n",
    "    \n",
    "    solution, fitness, _ = ga.evolve()\n",
    "    tour = ga.get_valid_tour(solution)\n",
    "    \n",
    "    print(f\"Time limit: {max_time:2d}h → Visits: {len(tour)} attractions, Fitness: {fitness:.1f}\")"
   ]
  },
  {
   "cell_type": "markdown",
   "metadata": {},
   "source": [
    "## Part 6: Challenge Questions\n",
    "\n",
    "Test your understanding!"
   ]
  },
  {
   "cell_type": "markdown",
   "metadata": {},
   "source": [
    "**Challenge 1**: Add a 6th attraction and re-run the GA. How does it affect the solution?\n",
    "\n",
    "```python\n",
    "# Add: Park with score=8.0, duration=2.0h, at (7.0, 80.5)\n",
    "```"
   ]
  },
  {
   "cell_type": "code",
   "execution_count": null,
   "metadata": {},
   "outputs": [],
   "source": [
    "# Your code here\n"
   ]
  },
  {
   "cell_type": "markdown",
   "metadata": {},
   "source": [
    "**Challenge 2**: Modify the fitness function to prefer attractions visited earlier (morning bonus)\n",
    "\n",
    "Hint: Add a bonus that decreases as total_time increases"
   ]
  },
  {
   "cell_type": "code",
   "execution_count": null,
   "metadata": {},
   "outputs": [],
   "source": [
    "# Your code here\n"
   ]
  },
  {
   "cell_type": "markdown",
   "metadata": {},
   "source": [
    "**Challenge 3**: Compare GA to a greedy algorithm\n",
    "\n",
    "Greedy approach: Always pick the highest-scoring attraction that fits"
   ]
  },
  {
   "cell_type": "code",
   "execution_count": null,
   "metadata": {},
   "outputs": [],
   "source": [
    "# Your code here\n"
   ]
  },
  {
   "cell_type": "markdown",
   "metadata": {},
   "source": [
    "## Summary\n",
    "\n",
    "**What you learned**:\n",
    "✅ How to represent a tour (permutation encoding)  \n",
    "✅ How fitness function works  \n",
    "✅ GA operations: Selection, Crossover, Mutation  \n",
    "✅ How to run and tune GA  \n",
    "✅ How to interpret results  \n",
    "\n",
    "**Next steps**:\n",
    "1. Read `LEARNING_GUIDE.md` section 6 (MIP)\n",
    "2. Run notebook `02_Genetic_Algorithm_Implementation.ipynb` with full dataset\n",
    "3. Try `03_MIP_Model_Benchmark.ipynb` to compare approaches\n",
    "4. Complete the challenge questions above\n",
    "\n",
    "**Questions?** Check `LEARNING_GUIDE.md` or open an issue on GitHub!\n",
    "\n",
    "---\n",
    "\n",
    "**Great job! 🎉** You now understand the basics of genetic algorithms for optimization!"
   ]
  }
 ],
 "metadata": {
  "kernelspec": {
   "display_name": "Python 3",
   "language": "python",
   "name": "python3"
  },
  "language_info": {
   "codemirror_mode": {
    "name": "ipython",
    "version": 3
   },
   "file_extension": ".py",
   "mimetype": "text/x-python",
   "name": "python",
   "nbconvert_exporter": "python",
   "pygments_lexer": "ipython3",
   "version": "3.8.0"
  }
 },
 "nbformat": 4,
 "nbformat_minor": 4
}
