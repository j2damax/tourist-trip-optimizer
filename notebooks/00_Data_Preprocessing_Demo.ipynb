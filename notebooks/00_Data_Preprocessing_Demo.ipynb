{
 "cells": [
  {
   "cell_type": "markdown",
   "metadata": {},
   "source": [
    "# Data Preprocessing Demo\n",
    "\n",
    "This notebook demonstrates the data preprocessing pipeline that transforms raw location data into clean, augmented data ready for optimization algorithms.\n",
    "\n",
    "## Overview\n",
    "\n",
    "The preprocessing follows a three-phase approach:\n",
    "\n",
    "1. **Phase 1: Initial Data Cleaning and Structuring**\n",
    "   - Filter tourist attractions only\n",
    "   - Select core columns (name, latitude, longitude)\n",
    "   - Handle missing values\n",
    "   - Validate coordinates for Sri Lanka\n",
    "   - Remove duplicates\n",
    "\n",
    "2. **Phase 2: Data Augmentation**\n",
    "   - Create category column based on name patterns\n",
    "   - Generate interest scores (0-100 scale)\n",
    "   - Generate visit durations (hours)\n",
    "\n",
    "3. **Phase 3: Final Preparation for Optimization**\n",
    "   - Calculate distance matrix (Haversine formula)\n",
    "   - Convert to travel time matrix (40 km/h avg speed)"
   ]
  },
  {
   "cell_type": "code",
   "execution_count": null,
   "metadata": {},
   "outputs": [],
   "source": [
    "import sys\n",
    "import os\n",
    "sys.path.insert(0, '../scripts')\n",
    "\n",
    "import pandas as pd\n",
    "import numpy as np\n",
    "import matplotlib.pyplot as plt\n",
    "from data_utils import load_attractions_data, prepare_data_for_optimization\n",
    "\n",
    "plt.style.use('seaborn-v0_8-darkgrid')\n",
    "%matplotlib inline"
   ]
  },
  {
   "cell_type": "markdown",
   "metadata": {},
   "source": [
    "## Load Preprocessed Data\n",
    "\n",
    "The preprocessed data is already available in `data/processed/`. Let's load it and explore."
   ]
  },
  {
   "cell_type": "code",
   "execution_count": null,
   "metadata": {},
   "outputs": [],
   "source": [
    "# Load preprocessed attractions\n",
    "attractions = load_attractions_data('../data/processed/attractions.csv')\n",
    "\n",
    "print(f\"Loaded {len(attractions)} tourist attractions\")\n",
    "print(f\"\\nColumns: {list(attractions.columns)}\")\n",
    "print(f\"\\nFirst 5 rows:\")\n",
    "attractions.head()"
   ]
  },
  {
   "cell_type": "markdown",
   "metadata": {},
   "source": [
    "## Dataset Statistics"
   ]
  },
  {
   "cell_type": "code",
   "execution_count": null,
   "metadata": {},
   "outputs": [],
   "source": [
    "print(\"Dataset Summary\")\n",
    "print(\"=\" * 80)\n",
    "print(f\"Total attractions: {len(attractions)}\")\n",
    "print(f\"\\nCategory Distribution:\")\n",
    "print(attractions['category'].value_counts())\n",
    "print(f\"\\nInterest Score Statistics:\")\n",
    "print(attractions['interest_score'].describe())\n",
    "print(f\"\\nVisit Duration Statistics (hours):\")\n",
    "print(attractions['visit_duration'].describe())"
   ]
  },
  {
   "cell_type": "markdown",
   "metadata": {},
   "source": [
    "## Visualize Category Distribution"
   ]
  },
  {
   "cell_type": "code",
   "execution_count": null,
   "metadata": {},
   "outputs": [],
   "source": [
    "fig, axes = plt.subplots(1, 2, figsize=(14, 5))\n",
    "\n",
    "# Category distribution\n",
    "category_counts = attractions['category'].value_counts()\n",
    "axes[0].barh(range(len(category_counts)), category_counts.values)\n",
    "axes[0].set_yticks(range(len(category_counts)))\n",
    "axes[0].set_yticklabels(category_counts.index)\n",
    "axes[0].set_xlabel('Count')\n",
    "axes[0].set_title('Distribution of Attraction Categories')\n",
    "axes[0].grid(True, alpha=0.3)\n",
    "\n",
    "# Interest score distribution\n",
    "axes[1].hist(attractions['interest_score'], bins=20, edgecolor='black', alpha=0.7)\n",
    "axes[1].set_xlabel('Interest Score')\n",
    "axes[1].set_ylabel('Frequency')\n",
    "axes[1].set_title('Distribution of Interest Scores')\n",
    "axes[1].grid(True, alpha=0.3)\n",
    "\n",
    "plt.tight_layout()\n",
    "plt.show()"
   ]
  },
  {
   "cell_type": "markdown",
   "metadata": {},
   "source": [
    "## Geographic Distribution"
   ]
  },
  {
   "cell_type": "code",
   "execution_count": null,
   "metadata": {},
   "outputs": [],
   "source": [
    "# Plot attractions on a map\n",
    "fig, ax = plt.subplots(figsize=(12, 10))\n",
    "\n",
    "# Color by category\n",
    "categories = attractions['category'].unique()\n",
    "colors = plt.cm.tab10(np.linspace(0, 1, len(categories)))\n",
    "category_colors = dict(zip(categories, colors))\n",
    "\n",
    "for category in categories:\n",
    "    subset = attractions[attractions['category'] == category]\n",
    "    ax.scatter(\n",
    "        subset['longitude'],\n",
    "        subset['latitude'],\n",
    "        c=[category_colors[category]],\n",
    "        s=50,\n",
    "        alpha=0.6,\n",
    "        label=category,\n",
    "        edgecolors='black',\n",
    "        linewidths=0.5\n",
    "    )\n",
    "\n",
    "ax.set_xlabel('Longitude')\n",
    "ax.set_ylabel('Latitude')\n",
    "ax.set_title('Geographic Distribution of Tourist Attractions in Sri Lanka')\n",
    "ax.legend(loc='upper right', fontsize=8)\n",
    "ax.grid(True, alpha=0.3)\n",
    "\n",
    "plt.tight_layout()\n",
    "plt.show()"
   ]
  },
  {
   "cell_type": "markdown",
   "metadata": {},
   "source": [
    "## Prepare Data for Optimization\n",
    "\n",
    "Use the `prepare_data_for_optimization` function to package everything needed for the algorithms."
   ]
  },
  {
   "cell_type": "code",
   "execution_count": null,
   "metadata": {},
   "outputs": [],
   "source": [
    "# Prepare data for optimization\n",
    "prepared_data = prepare_data_for_optimization(attractions)\n",
    "\n",
    "if prepared_data:\n",
    "    print(\"Data prepared successfully for optimization!\")\n",
    "    print(f\"\\nPrepared data contains:\")\n",
    "    print(f\"  - attractions: DataFrame with {prepared_data['n_attractions']} locations\")\n",
    "    print(f\"  - distance_matrix: {prepared_data['distance_matrix'].shape} numpy array\")\n",
    "    print(f\"  - scores: {prepared_data['scores'].shape} numpy array\")\n",
    "    print(f\"  - visit_durations: {prepared_data['visit_durations'].shape} numpy array\")\n",
    "    print(f\"\\nDistance Matrix Statistics:\")\n",
    "    distances = prepared_data['distance_matrix'][prepared_data['distance_matrix'] > 0]\n",
    "    print(f\"  - Min distance: {distances.min():.2f} km\")\n",
    "    print(f\"  - Max distance: {distances.max():.2f} km\")\n",
    "    print(f\"  - Mean distance: {distances.mean():.2f} km\")"
   ]
  },
  {
   "cell_type": "markdown",
   "metadata": {},
   "source": [
    "## Load Pre-calculated Matrices\n",
    "\n",
    "The distance and travel time matrices are pre-calculated and saved as .npy files for efficiency."
   ]
  },
  {
   "cell_type": "code",
   "execution_count": null,
   "metadata": {},
   "outputs": [],
   "source": [
    "# Load pre-calculated matrices\n",
    "distance_matrix = np.load('../data/processed/distance_matrix.npy')\n",
    "travel_time_matrix = np.load('../data/processed/travel_time_matrix.npy')\n",
    "\n",
    "print(f\"Distance matrix shape: {distance_matrix.shape}\")\n",
    "print(f\"Travel time matrix shape: {travel_time_matrix.shape}\")\n",
    "\n",
    "print(f\"\\nTravel Time Statistics (hours):\")\n",
    "travel_times = travel_time_matrix[travel_time_matrix > 0]\n",
    "print(f\"  - Min: {travel_times.min():.2f}\")\n",
    "print(f\"  - Max: {travel_times.max():.2f}\")\n",
    "print(f\"  - Mean: {travel_times.mean():.2f}\")\n",
    "print(f\"  - Median: {np.median(travel_times):.2f}\")"
   ]
  },
  {
   "cell_type": "markdown",
   "metadata": {},
   "source": [
    "## Example: Find Closest Attractions\n",
    "\n",
    "Let's find the 5 closest attractions to a specific location."
   ]
  },
  {
   "cell_type": "code",
   "execution_count": null,
   "metadata": {},
   "outputs": [],
   "source": [
    "# Pick a random attraction\n",
    "idx = 0  # First attraction in the dataset\n",
    "attraction = attractions.iloc[idx]\n",
    "\n",
    "print(f\"Finding attractions closest to: {attraction['name']}\")\n",
    "print(f\"Category: {attraction['category']}\")\n",
    "print(f\"Interest Score: {attraction['interest_score']}\")\n",
    "print(f\"\\nClosest 5 attractions:\")\n",
    "\n",
    "# Get distances from this attraction to all others\n",
    "distances_from_idx = distance_matrix[idx]\n",
    "\n",
    "# Sort and get top 5 (excluding itself)\n",
    "sorted_indices = np.argsort(distances_from_idx)[1:6]  # Skip 0 (itself)\n",
    "\n",
    "for i, close_idx in enumerate(sorted_indices, 1):\n",
    "    close_attraction = attractions.iloc[close_idx]\n",
    "    distance = distances_from_idx[close_idx]\n",
    "    travel_time = travel_time_matrix[idx, close_idx]\n",
    "    print(f\"{i}. {close_attraction['name']}\")\n",
    "    print(f\"   Distance: {distance:.2f} km, Travel time: {travel_time:.2f} hours\")\n",
    "    print(f\"   Category: {close_attraction['category']}, Score: {close_attraction['interest_score']}\")\n",
    "    print()"
   ]
  },
  {
   "cell_type": "markdown",
   "metadata": {},
   "source": [
    "## Next Steps\n",
    "\n",
    "The data is now ready for optimization! You can:\n",
    "\n",
    "1. Use the Genetic Algorithm (see `02_Genetic_Algorithm_Implementation.ipynb`)\n",
    "2. Use the MIP Model (see `03_MIP_Model_Benchmark.ipynb`)\n",
    "3. Compare results and visualize tours (see `04_Results_and_Visualization.ipynb`)\n",
    "\n",
    "## Re-running Preprocessing\n",
    "\n",
    "If you need to regenerate the processed data, run:\n",
    "\n",
    "```bash\n",
    "python scripts/preprocess_data.py\n",
    "```\n",
    "\n",
    "This will:\n",
    "- Clean and filter the raw data\n",
    "- Generate synthetic features (categories, scores, durations)\n",
    "- Calculate distance and travel time matrices\n",
    "- Save all outputs to `data/processed/`"
   ]
  }
 ],
 "metadata": {
  "kernelspec": {
   "display_name": "Python 3",
   "language": "python",
   "name": "python3"
  },
  "language_info": {
   "codemirror_mode": {
    "name": "ipython",
    "version": 3
   },
   "file_extension": ".py",
   "mimetype": "text/x-python",
   "name": "python",
   "nbconvert_exporter": "python",
   "pygments_lexer": "ipython3",
   "version": "3.8.0"
  }
 },
 "nbformat": 4,
 "nbformat_minor": 4
}
