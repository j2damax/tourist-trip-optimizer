{
 "cells": [
  {
   "cell_type": "markdown",
   "metadata": {},
   "source": [
    "# 02 - Genetic Algorithm Implementation\n",
    "\n",
    "This notebook implements and tests a Genetic Algorithm to solve the Tourist Trip Design Problem."
   ]
  },
  {
   "cell_type": "markdown",
   "metadata": {},
   "source": [
    "## Import Libraries"
   ]
  },
  {
   "cell_type": "code",
   "execution_count": null,
   "metadata": {},
   "outputs": [],
   "source": [
    "import sys\n",
    "sys.path.append('../scripts')\n",
    "\n",
    "import pandas as pd\n",
    "import numpy as np\n",
    "import matplotlib.pyplot as plt\n",
    "import time\n",
    "\n",
    "from data_utils import load_attractions_data, calculate_distance_matrix\n",
    "from ga_core import GeneticAlgorithm\n",
    "from visualization import (\n",
    "    plot_fitness_evolution,\n",
    "    plot_route_on_map,\n",
    "    plot_tour_statistics,\n",
    "    create_summary_report\n",
    ")\n",
    "\n",
    "plt.style.use('seaborn-v0_8-darkgrid')\n",
    "%matplotlib inline"
   ]
  },
  {
   "cell_type": "markdown",
   "metadata": {},
   "source": [
    "## Load Data"
   ]
  },
  {
   "cell_type": "code",
   "execution_count": null,
   "metadata": {},
   "outputs": [],
   "source": [
    "# Load attractions data\n",
    "attractions = load_attractions_data('../data/sri_lanka_attractions.csv')\n",
    "print(f\"Loaded {len(attractions)} attractions\")\n",
    "\n",
    "# Calculate or load distance matrix\n",
    "try:\n",
    "    distance_matrix = np.load('../data/distance_matrix.npy')\n",
    "    print(\"Distance matrix loaded from file\")\n",
    "except:\n",
    "    distance_matrix = calculate_distance_matrix(attractions)\n",
    "    np.save('../data/distance_matrix.npy', distance_matrix)\n",
    "    print(\"Distance matrix calculated and saved\")\n",
    "\n",
    "# Extract data for optimization\n",
    "scores = attractions['score'].values\n",
    "visit_durations = attractions['visit_duration'].values\n",
    "\n",
    "print(f\"\\nData loaded successfully!\")\n",
    "attractions.head()"
   ]
  },
  {
   "cell_type": "markdown",
   "metadata": {},
   "source": [
    "## Define Problem Parameters"
   ]
  },
  {
   "cell_type": "code",
   "execution_count": null,
   "metadata": {},
   "outputs": [],
   "source": [
    "# Define problem constraints\n",
    "MAX_TIME = 24  # Maximum time available for the trip (hours)\n",
    "\n",
    "# Genetic Algorithm parameters\n",
    "POPULATION_SIZE = 100\n",
    "GENERATIONS = 500\n",
    "MUTATION_RATE = 0.1\n",
    "CROSSOVER_RATE = 0.8\n",
    "\n",
    "print(\"Problem Parameters:\")\n",
    "print(f\"Maximum trip time: {MAX_TIME} hours\")\n",
    "print(f\"\\nGA Parameters:\")\n",
    "print(f\"Population size: {POPULATION_SIZE}\")\n",
    "print(f\"Generations: {GENERATIONS}\")\n",
    "print(f\"Mutation rate: {MUTATION_RATE}\")\n",
    "print(f\"Crossover rate: {CROSSOVER_RATE}\")"
   ]
  },
  {
   "cell_type": "markdown",
   "metadata": {},
   "source": [
    "## Initialize and Run Genetic Algorithm"
   ]
  },
  {
   "cell_type": "code",
   "execution_count": null,
   "metadata": {},
   "outputs": [],
   "source": [
    "# Initialize GA\n",
    "ga = GeneticAlgorithm(\n",
    "    distance_matrix=distance_matrix,\n",
    "    scores=scores,\n",
    "    visit_durations=visit_durations,\n",
    "    max_time=MAX_TIME,\n",
    "    population_size=POPULATION_SIZE,\n",
    "    generations=GENERATIONS,\n",
    "    mutation_rate=MUTATION_RATE,\n",
    "    crossover_rate=CROSSOVER_RATE\n",
    ")\n",
    "\n",
    "print(\"Genetic Algorithm initialized!\")\n",
    "print(\"\\nRunning optimization...\")\n",
    "\n",
    "# Run the algorithm\n",
    "start_time = time.time()\n",
    "best_solution, best_fitness, fitness_history = ga.evolve()\n",
    "end_time = time.time()\n",
    "\n",
    "computation_time = end_time - start_time\n",
    "\n",
    "print(f\"\\nOptimization completed in {computation_time:.2f} seconds\")\n",
    "print(f\"Best fitness achieved: {best_fitness:.2f}\")"
   ]
  },
  {
   "cell_type": "markdown",
   "metadata": {},
   "source": [
    "## Extract Valid Tour"
   ]
  },
  {
   "cell_type": "code",
   "execution_count": null,
   "metadata": {},
   "outputs": [],
   "source": [
    "# Get valid tour within time constraint\n",
    "valid_tour = ga.get_valid_tour(best_solution)\n",
    "\n",
    "print(f\"Valid tour contains {len(valid_tour)} attractions\")\n",
    "print(\"\\nTour sequence:\")\n",
    "for i, idx in enumerate(valid_tour):\n",
    "    print(f\"{i+1}. {attractions.iloc[idx]['name']} (Score: {attractions.iloc[idx]['score']}, Duration: {attractions.iloc[idx]['visit_duration']}h)\")"
   ]
  },
  {
   "cell_type": "markdown",
   "metadata": {},
   "source": [
    "## Visualize Fitness Evolution"
   ]
  },
  {
   "cell_type": "code",
   "execution_count": null,
   "metadata": {},
   "outputs": [],
   "source": [
    "# Plot fitness evolution\n",
    "fig = plot_fitness_evolution(fitness_history)\n",
    "plt.show()"
   ]
  },
  {
   "cell_type": "markdown",
   "metadata": {},
   "source": [
    "## Analyze Convergence"
   ]
  },
  {
   "cell_type": "code",
   "execution_count": null,
   "metadata": {},
   "outputs": [],
   "source": [
    "# Analyze convergence speed\n",
    "max_fitnesses = [h['max_fitness'] for h in fitness_history]\n",
    "first_95_percent = None\n",
    "\n",
    "final_fitness = max_fitnesses[-1]\n",
    "threshold = 0.95 * final_fitness\n",
    "\n",
    "for i, fitness in enumerate(max_fitnesses):\n",
    "    if fitness >= threshold:\n",
    "        first_95_percent = i\n",
    "        break\n",
    "\n",
    "if first_95_percent:\n",
    "    print(f\"Algorithm reached 95% of final fitness at generation {first_95_percent}\")\n",
    "    print(f\"Convergence rate: {(first_95_percent/GENERATIONS)*100:.1f}% of total generations\")\n",
    "else:\n",
    "    print(\"Algorithm did not reach 95% of final fitness\")"
   ]
  },
  {
   "cell_type": "markdown",
   "metadata": {},
   "source": [
    "## Visualize Tour Statistics"
   ]
  },
  {
   "cell_type": "code",
   "execution_count": null,
   "metadata": {},
   "outputs": [],
   "source": [
    "# Plot comprehensive tour statistics\n",
    "fig = plot_tour_statistics(attractions, valid_tour, distance_matrix)\n",
    "plt.show()"
   ]
  },
  {
   "cell_type": "markdown",
   "metadata": {},
   "source": [
    "## Create Interactive Map"
   ]
  },
  {
   "cell_type": "code",
   "execution_count": null,
   "metadata": {},
   "outputs": [],
   "source": [
    "# Create interactive map of the tour\n",
    "tour_map = plot_route_on_map(attractions, valid_tour, output_file='../data/ga_tour_map.html')\n",
    "print(\"Interactive map created! Open ../data/ga_tour_map.html in a browser to view.\")"
   ]
  },
  {
   "cell_type": "markdown",
   "metadata": {},
   "source": [
    "## Generate Summary Report"
   ]
  },
  {
   "cell_type": "code",
   "execution_count": null,
   "metadata": {},
   "outputs": [],
   "source": [
    "# Generate and print summary report\n",
    "report = create_summary_report(attractions, valid_tour, distance_matrix, algorithm_name='Genetic Algorithm')\n",
    "print(report)\n",
    "\n",
    "# Save report to file\n",
    "with open('../data/ga_tour_report.txt', 'w') as f:\n",
    "    f.write(report)\n",
    "print(\"Report saved to ../data/ga_tour_report.txt\")"
   ]
  },
  {
   "cell_type": "markdown",
   "metadata": {},
   "source": [
    "## Sensitivity Analysis"
   ]
  },
  {
   "cell_type": "code",
   "execution_count": null,
   "metadata": {},
   "outputs": [],
   "source": [
    "# Test different time constraints\n",
    "time_constraints = [12, 18, 24, 30, 36]\n",
    "results = []\n",
    "\n",
    "print(\"Running sensitivity analysis for different time constraints...\")\n",
    "\n",
    "for max_time in time_constraints:\n",
    "    ga_test = GeneticAlgorithm(\n",
    "        distance_matrix=distance_matrix,\n",
    "        scores=scores,\n",
    "        visit_durations=visit_durations,\n",
    "        max_time=max_time,\n",
    "        population_size=50,\n",
    "        generations=200,\n",
    "        mutation_rate=0.1,\n",
    "        crossover_rate=0.8\n",
    "    )\n",
    "    \n",
    "    solution, fitness, _ = ga_test.evolve()\n",
    "    tour = ga_test.get_valid_tour(solution)\n",
    "    \n",
    "    results.append({\n",
    "        'max_time': max_time,\n",
    "        'attractions_visited': len(tour),\n",
    "        'total_score': fitness\n",
    "    })\n",
    "    \n",
    "    print(f\"  Max time: {max_time}h → {len(tour)} attractions, Score: {fitness:.2f}\")\n",
    "\n",
    "# Plot sensitivity analysis\n",
    "results_df = pd.DataFrame(results)\n",
    "\n",
    "fig, (ax1, ax2) = plt.subplots(1, 2, figsize=(14, 5))\n",
    "\n",
    "ax1.plot(results_df['max_time'], results_df['attractions_visited'], marker='o', linewidth=2, markersize=8)\n",
    "ax1.set_xlabel('Maximum Trip Time (hours)')\n",
    "ax1.set_ylabel('Number of Attractions Visited')\n",
    "ax1.set_title('Attractions vs Time Constraint')\n",
    "ax1.grid(True, alpha=0.3)\n",
    "\n",
    "ax2.plot(results_df['max_time'], results_df['total_score'], marker='s', color='orange', linewidth=2, markersize=8)\n",
    "ax2.set_xlabel('Maximum Trip Time (hours)')\n",
    "ax2.set_ylabel('Total Satisfaction Score')\n",
    "ax2.set_title('Total Score vs Time Constraint')\n",
    "ax2.grid(True, alpha=0.3)\n",
    "\n",
    "plt.tight_layout()\n",
    "plt.show()"
   ]
  },
  {
   "cell_type": "markdown",
   "metadata": {},
   "source": [
    "## Save Results"
   ]
  },
  {
   "cell_type": "code",
   "execution_count": null,
   "metadata": {},
   "outputs": [],
   "source": [
    "# Save GA results\n",
    "results_data = {\n",
    "    'algorithm': 'Genetic Algorithm',\n",
    "    'best_solution': best_solution,\n",
    "    'valid_tour': valid_tour,\n",
    "    'best_fitness': best_fitness,\n",
    "    'computation_time': computation_time,\n",
    "    'fitness_history': fitness_history,\n",
    "    'parameters': {\n",
    "        'population_size': POPULATION_SIZE,\n",
    "        'generations': GENERATIONS,\n",
    "        'mutation_rate': MUTATION_RATE,\n",
    "        'crossover_rate': CROSSOVER_RATE,\n",
    "        'max_time': MAX_TIME\n",
    "    }\n",
    "}\n",
    "\n",
    "np.save('../data/ga_results.npy', results_data)\n",
    "print(\"Results saved to ../data/ga_results.npy\")"
   ]
  },
  {
   "cell_type": "markdown",
   "metadata": {},
   "source": [
    "## Next Steps\n",
    "\n",
    "In the next notebook, we will implement a Mixed Integer Programming (MIP) model as a benchmark to compare with the Genetic Algorithm results."
   ]
  }
 ],
 "metadata": {
  "kernelspec": {
   "display_name": "Python 3",
   "language": "python",
   "name": "python3"
  },
  "language_info": {
   "codemirror_mode": {
    "name": "ipython",
    "version": 3
   },
   "file_extension": ".py",
   "mimetype": "text/x-python",
   "name": "python",
   "nbconvert_exporter": "python",
   "pygments_lexer": "ipython3",
   "version": "3.8.0"
  }
 },
 "nbformat": 4,
 "nbformat_minor": 4
}
