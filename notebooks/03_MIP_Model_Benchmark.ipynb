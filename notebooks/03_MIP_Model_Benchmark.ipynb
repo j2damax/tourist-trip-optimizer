{
 "cells": [
  {
   "cell_type": "markdown",
   "metadata": {},
   "source": [
    "# 03 - MIP Model Benchmark\n",
    "\n",
    "This notebook implements a Mixed Integer Programming (MIP) model using PuLP to solve the Tourist Trip Design Problem as a benchmark."
   ]
  },
  {
   "cell_type": "markdown",
   "metadata": {},
   "source": [
    "## Import Libraries"
   ]
  },
  {
   "cell_type": "code",
   "execution_count": null,
   "metadata": {},
   "outputs": [],
   "source": [
    "import sys\n",
    "sys.path.append('../scripts')\n",
    "\n",
    "import pandas as pd\n",
    "import numpy as np\n",
    "import matplotlib.pyplot as plt\n",
    "import time\n",
    "from pulp import *\n",
    "\n",
    "from data_utils import load_attractions_data\n",
    "from visualization import (\n",
    "    plot_route_on_map,\n",
    "    plot_tour_statistics,\n",
    "    create_summary_report,\n",
    "    compare_algorithms\n",
    ")\n",
    "\n",
    "plt.style.use('seaborn-v0_8-darkgrid')\n",
    "%matplotlib inline"
   ]
  },
  {
   "cell_type": "markdown",
   "metadata": {},
   "source": [
    "## Load Data"
   ]
  },
  {
   "cell_type": "code",
   "execution_count": null,
   "metadata": {},
   "outputs": [],
   "source": [
    "# Load attractions data\n",
    "attractions = load_attractions_data('../data/sri_lanka_attractions.csv')\n",
    "distance_matrix = np.load('../data/distance_matrix.npy')\n",
    "\n",
    "scores = attractions['score'].values\n",
    "visit_durations = attractions['visit_duration'].values\n",
    "n_attractions = len(attractions)\n",
    "\n",
    "print(f\"Loaded {n_attractions} attractions\")\n",
    "attractions.head()"
   ]
  },
  {
   "cell_type": "markdown",
   "metadata": {},
   "source": [
    "## Define MIP Model Parameters"
   ]
  },
  {
   "cell_type": "code",
   "execution_count": null,
   "metadata": {},
   "outputs": [],
   "source": [
    "# Problem parameters\n",
    "MAX_TIME = 24  # Maximum time available (hours)\n",
    "AVG_SPEED = 50  # Average travel speed (km/h)\n",
    "\n",
    "print(f\"Maximum trip time: {MAX_TIME} hours\")\n",
    "print(f\"Average travel speed: {AVG_SPEED} km/h\")"
   ]
  },
  {
   "cell_type": "markdown",
   "metadata": {},
   "source": [
    "## Build MIP Model\n",
    "\n",
    "We formulate the Tourist Trip Design Problem as a variant of the Orienteering Problem:\n",
    "\n",
    "**Decision Variables:**\n",
    "- $x_i$ = 1 if attraction i is visited, 0 otherwise\n",
    "- $y_{ij}$ = 1 if we travel from attraction i to j, 0 otherwise\n",
    "- $u_i$ = position of attraction i in the tour (for subtour elimination)\n",
    "\n",
    "**Objective:**\n",
    "Maximize total satisfaction score: $\\max \\sum_{i} score_i \\cdot x_i$\n",
    "\n",
    "**Constraints:**\n",
    "1. Time constraint: Total travel time + visit time ≤ MAX_TIME\n",
    "2. Flow conservation: Each visited attraction has one incoming and one outgoing edge\n",
    "3. Subtour elimination: MTZ constraints"
   ]
  },
  {
   "cell_type": "code",
   "execution_count": null,
   "metadata": {},
   "outputs": [],
   "source": [
    "print(\"Building MIP model...\")\n",
    "start_build = time.time()\n",
    "\n",
    "# Create the model\n",
    "model = LpProblem(\"Tourist_Trip_Design\", LpMaximize)\n",
    "\n",
    "# Decision variables\n",
    "# x[i] = 1 if attraction i is visited\n",
    "x = LpVariable.dicts(\"visit\", range(n_attractions), cat='Binary')\n",
    "\n",
    "# y[i][j] = 1 if we travel from i to j\n",
    "y = LpVariable.dicts(\"travel\", \n",
    "                     [(i, j) for i in range(n_attractions) for j in range(n_attractions) if i != j],\n",
    "                     cat='Binary')\n",
    "\n",
    "# Position variables for subtour elimination (MTZ)\n",
    "u = LpVariable.dicts(\"position\", range(n_attractions), lowBound=0, upBound=n_attractions-1, cat='Continuous')\n",
    "\n",
    "# Objective: Maximize total satisfaction score\n",
    "model += lpSum([scores[i] * x[i] for i in range(n_attractions)]), \"Total_Score\"\n",
    "\n",
    "# Constraint 1: Time constraint\n",
    "total_time = lpSum([visit_durations[i] * x[i] for i in range(n_attractions)]) + \\\n",
    "             lpSum([distance_matrix[i][j] / AVG_SPEED * y[(i, j)] \n",
    "                    for i in range(n_attractions) for j in range(n_attractions) if i != j])\n",
    "model += total_time <= MAX_TIME, \"Time_Limit\"\n",
    "\n",
    "# Constraint 2: Flow conservation\n",
    "# If an attraction is visited, it must have exactly one incoming and one outgoing edge\n",
    "for i in range(n_attractions):\n",
    "    # Outgoing edges\n",
    "    model += lpSum([y[(i, j)] for j in range(n_attractions) if i != j]) == x[i], f\"Outflow_{i}\"\n",
    "    # Incoming edges\n",
    "    model += lpSum([y[(j, i)] for j in range(n_attractions) if i != j]) == x[i], f\"Inflow_{i}\"\n",
    "\n",
    "# Constraint 3: Subtour elimination (MTZ constraints)\n",
    "for i in range(n_attractions):\n",
    "    for j in range(n_attractions):\n",
    "        if i != j and i > 0 and j > 0:  # Exclude depot (attraction 0)\n",
    "            model += u[i] - u[j] + n_attractions * y[(i, j)] <= n_attractions - 1, f\"MTZ_{i}_{j}\"\n",
    "\n",
    "end_build = time.time()\n",
    "print(f\"Model built in {end_build - start_build:.2f} seconds\")\n",
    "print(f\"Number of variables: {len(model.variables())}\")\n",
    "print(f\"Number of constraints: {len(model.constraints)}\")"
   ]
  },
  {
   "cell_type": "markdown",
   "metadata": {},
   "source": [
    "## Solve the MIP Model"
   ]
  },
  {
   "cell_type": "code",
   "execution_count": null,
   "metadata": {},
   "outputs": [],
   "source": [
    "print(\"Solving MIP model...\")\n",
    "start_solve = time.time()\n",
    "\n",
    "# Solve the model\n",
    "model.solve(PULP_CBC_CMD(msg=1, timeLimit=300))  # 5 minute time limit\n",
    "\n",
    "end_solve = time.time()\n",
    "computation_time = end_solve - start_solve\n",
    "\n",
    "print(f\"\\nSolution status: {LpStatus[model.status]}\")\n",
    "print(f\"Computation time: {computation_time:.2f} seconds\")\n",
    "print(f\"Objective value (Total Score): {value(model.objective):.2f}\")"
   ]
  },
  {
   "cell_type": "markdown",
   "metadata": {},
   "source": [
    "## Extract Solution"
   ]
  },
  {
   "cell_type": "code",
   "execution_count": null,
   "metadata": {},
   "outputs": [],
   "source": [
    "# Extract visited attractions\n",
    "visited_attractions = [i for i in range(n_attractions) if value(x[i]) > 0.5]\n",
    "\n",
    "print(f\"Number of attractions visited: {len(visited_attractions)}\")\n",
    "print(f\"\\nVisited attractions:\")\n",
    "for idx in visited_attractions:\n",
    "    print(f\"  - {attractions.iloc[idx]['name']} (Score: {scores[idx]})\")\n",
    "\n",
    "# Extract tour sequence\n",
    "# Build adjacency list\n",
    "tour_edges = [(i, j) for i in range(n_attractions) for j in range(n_attractions) \n",
    "              if i != j and value(y[(i, j)]) > 0.5]\n",
    "\n",
    "print(f\"\\nTour edges: {tour_edges}\")\n",
    "\n",
    "# Reconstruct tour sequence\n",
    "if visited_attractions:\n",
    "    # Create adjacency dictionary\n",
    "    next_attraction = {i: j for i, j in tour_edges}\n",
    "    \n",
    "    # Start from first attraction\n",
    "    tour_sequence = []\n",
    "    if next_attraction:\n",
    "        current = list(next_attraction.keys())[0]\n",
    "        tour_sequence.append(current)\n",
    "        \n",
    "        visited_set = {current}\n",
    "        while current in next_attraction and next_attraction[current] not in visited_set:\n",
    "            current = next_attraction[current]\n",
    "            tour_sequence.append(current)\n",
    "            visited_set.add(current)\n",
    "    else:\n",
    "        tour_sequence = visited_attractions\n",
    "    \n",
    "    print(f\"\\nTour sequence:\")\n",
    "    for i, idx in enumerate(tour_sequence):\n",
    "        print(f\"{i+1}. {attractions.iloc[idx]['name']}\")\n",
    "else:\n",
    "    tour_sequence = []"
   ]
  },
  {
   "cell_type": "markdown",
   "metadata": {},
   "source": [
    "## Verify Solution"
   ]
  },
  {
   "cell_type": "code",
   "execution_count": null,
   "metadata": {},
   "outputs": [],
   "source": [
    "# Calculate actual time used\n",
    "if tour_sequence:\n",
    "    total_visit_time = sum([visit_durations[i] for i in tour_sequence])\n",
    "    total_travel_time = 0\n",
    "    total_travel_dist = 0\n",
    "    \n",
    "    for i in range(len(tour_sequence) - 1):\n",
    "        dist = distance_matrix[tour_sequence[i], tour_sequence[i+1]]\n",
    "        total_travel_dist += dist\n",
    "        total_travel_time += dist / AVG_SPEED\n",
    "    \n",
    "    total_time = total_visit_time + total_travel_time\n",
    "    total_score = sum([scores[i] for i in tour_sequence])\n",
    "    \n",
    "    print(\"Solution Verification:\")\n",
    "    print(f\"Total visit time: {total_visit_time:.2f} hours\")\n",
    "    print(f\"Total travel distance: {total_travel_dist:.2f} km\")\n",
    "    print(f\"Total travel time: {total_travel_time:.2f} hours\")\n",
    "    print(f\"Total time: {total_time:.2f} hours (limit: {MAX_TIME} hours)\")\n",
    "    print(f\"Total score: {total_score:.2f}\")\n",
    "    print(f\"\\nTime constraint satisfied: {total_time <= MAX_TIME}\")"
   ]
  },
  {
   "cell_type": "markdown",
   "metadata": {},
   "source": [
    "## Visualize MIP Solution"
   ]
  },
  {
   "cell_type": "code",
   "execution_count": null,
   "metadata": {},
   "outputs": [],
   "source": [
    "if tour_sequence:\n",
    "    # Plot tour statistics\n",
    "    fig = plot_tour_statistics(attractions, tour_sequence, distance_matrix)\n",
    "    plt.show()\n",
    "    \n",
    "    # Create interactive map\n",
    "    tour_map = plot_route_on_map(attractions, tour_sequence, output_file='../data/mip_tour_map.html')\n",
    "    print(\"\\nInteractive map created! Open ../data/mip_tour_map.html in a browser to view.\")\n",
    "    \n",
    "    # Generate summary report\n",
    "    report = create_summary_report(attractions, tour_sequence, distance_matrix, algorithm_name='MIP (PuLP)')\n",
    "    print(report)\n",
    "    \n",
    "    # Save report\n",
    "    with open('../data/mip_tour_report.txt', 'w') as f:\n",
    "        f.write(report)\n",
    "    print(\"Report saved to ../data/mip_tour_report.txt\")"
   ]
  },
  {
   "cell_type": "markdown",
   "metadata": {},
   "source": [
    "## Compare with Genetic Algorithm"
   ]
  },
  {
   "cell_type": "code",
   "execution_count": null,
   "metadata": {},
   "outputs": [],
   "source": [
    "# Load GA results\n",
    "try:\n",
    "    ga_results = np.load('../data/ga_results.npy', allow_pickle=True).item()\n",
    "    \n",
    "    # Prepare comparison data\n",
    "    comparison_results = {\n",
    "        'Genetic Algorithm': {\n",
    "            'score': ga_results['best_fitness'],\n",
    "            'computation_time': ga_results['computation_time']\n",
    "        },\n",
    "        'MIP (PuLP)': {\n",
    "            'score': value(model.objective) if tour_sequence else 0,\n",
    "            'computation_time': computation_time\n",
    "        }\n",
    "    }\n",
    "    \n",
    "    # Plot comparison\n",
    "    fig = compare_algorithms(comparison_results)\n",
    "    plt.show()\n",
    "    \n",
    "    # Print comparison\n",
    "    print(\"\\nAlgorithm Comparison:\")\n",
    "    print(\"=\" * 60)\n",
    "    print(f\"{'Algorithm':<20} {'Score':<15} {'Time (s)':<15}\")\n",
    "    print(\"=\" * 60)\n",
    "    for algo, results in comparison_results.items():\n",
    "        print(f\"{algo:<20} {results['score']:<15.2f} {results['computation_time']:<15.2f}\")\n",
    "    print(\"=\" * 60)\n",
    "    \n",
    "except:\n",
    "    print(\"GA results not found. Run notebook 02 first to generate GA results.\")"
   ]
  },
  {
   "cell_type": "markdown",
   "metadata": {},
   "source": [
    "## Save MIP Results"
   ]
  },
  {
   "cell_type": "code",
   "execution_count": null,
   "metadata": {},
   "outputs": [],
   "source": [
    "# Save MIP results\n",
    "if tour_sequence:\n",
    "    mip_results = {\n",
    "        'algorithm': 'MIP (PuLP)',\n",
    "        'tour_sequence': tour_sequence,\n",
    "        'total_score': value(model.objective),\n",
    "        'computation_time': computation_time,\n",
    "        'status': LpStatus[model.status],\n",
    "        'parameters': {\n",
    "            'max_time': MAX_TIME,\n",
    "            'avg_speed': AVG_SPEED\n",
    "        }\n",
    "    }\n",
    "    \n",
    "    np.save('../data/mip_results.npy', mip_results)\n",
    "    print(\"Results saved to ../data/mip_results.npy\")"
   ]
  },
  {
   "cell_type": "markdown",
   "metadata": {},
   "source": [
    "## Analysis and Insights\n",
    "\n",
    "### MIP Model Advantages:\n",
    "- Provides optimal or near-optimal solutions (with guarantees)\n",
    "- Deterministic results\n",
    "- Can provide optimality gaps\n",
    "\n",
    "### MIP Model Limitations:\n",
    "- Computational complexity grows with problem size\n",
    "- May require significant time for large instances\n",
    "- Memory intensive for large problems\n",
    "\n",
    "### When to Use MIP vs GA:\n",
    "- **MIP**: Smaller problems (<50 attractions), when optimality is critical\n",
    "- **GA**: Larger problems, when good solutions are needed quickly, real-time applications"
   ]
  },
  {
   "cell_type": "markdown",
   "metadata": {},
   "source": [
    "## Next Steps\n",
    "\n",
    "In the next notebook, we will create comprehensive visualizations and analyze the results from both algorithms."
   ]
  }
 ],
 "metadata": {
  "kernelspec": {
   "display_name": "Python 3",
   "language": "python",
   "name": "python3"
  },
  "language_info": {
   "codemirror_mode": {
    "name": "ipython",
    "version": 3
   },
   "file_extension": ".py",
   "mimetype": "text/x-python",
   "name": "python",
   "nbconvert_exporter": "python",
   "pygments_lexer": "ipython3",
   "version": "3.8.0"
  }
 },
 "nbformat": 4,
 "nbformat_minor": 4
}
